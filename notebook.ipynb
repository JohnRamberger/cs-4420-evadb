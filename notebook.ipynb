{
 "cells": [
  {
   "cell_type": "code",
   "execution_count": 1,
   "metadata": {},
   "outputs": [],
   "source": [
    "import evadb\n",
    "import shutil\n",
    "import pandas as pd"
   ]
  },
  {
   "cell_type": "code",
   "execution_count": 2,
   "metadata": {},
   "outputs": [],
   "source": [
    "shutil.rmtree('./evadb_data')\n",
    "\n",
    "try:\n",
    "    cursor = evadb.connect().cursor()\n",
    "    cursor.query(\"\"\"\n",
    "        CREATE DATABASE mydb WITH ENGINE = 'sqlite', PARAMETERS = {\n",
    "        \"database\": \":memory:\"\n",
    "    };\"\"\").execute()\n",
    "except:\n",
    "    pass"
   ]
  },
  {
   "cell_type": "code",
   "execution_count": 34,
   "metadata": {},
   "outputs": [
    {
     "data": {
      "text/plain": [
       "<evadb.models.storage.batch.Batch at 0x14f1c0aad10>"
      ]
     },
     "execution_count": 34,
     "metadata": {},
     "output_type": "execute_result"
    }
   ],
   "source": [
    "\n",
    "\n",
    "# drop all tables\n",
    "cursor.query(\"\"\"\n",
    "    DROP TABLE IF EXISTS tasks;\n",
    "\"\"\").execute()\n",
    "# cursor.query(\"\"\"\n",
    "#     DROP TABLE IF EXISTS members;\n",
    "# \"\"\").df()\n",
    "\n",
    "# Create tables\n",
    "cursor.query(\"\"\"\n",
    "    CREATE TABLE tasks (\n",
    "        id INTEGER,\n",
    "        name TEXT(30),\n",
    "        description\tTEXT(100)\n",
    "    );\n",
    "\"\"\").execute()\n"
   ]
  },
  {
   "cell_type": "code",
   "execution_count": 39,
   "metadata": {},
   "outputs": [
    {
     "name": "stdout",
     "output_type": "stream",
     "text": [
      "Empty DataFrame\n",
      "Columns: []\n",
      "Index: []\n"
     ]
    }
   ],
   "source": [
    "# list tables\n",
    "x = cursor.query(\"\"\"\n",
    "use mydb {\n",
    "   SELECT \n",
    "    name\n",
    "FROM \n",
    "    sqlite_schema\n",
    "WHERE \n",
    "    type ='table' AND \n",
    "    name NOT LIKE 'sqlite_%'\n",
    "};\n",
    "\"\"\").df()\n",
    "\n",
    "print(x)"
   ]
  },
  {
   "cell_type": "code",
   "execution_count": 43,
   "metadata": {},
   "outputs": [
    {
     "name": "stdout",
     "output_type": "stream",
     "text": [
      "                                         description contributor\n",
      "0  For now, if open's pr adds or changes long int...     xzdandy\n",
      "1  Check if the query plan uses VectorIndexScan f...    jiashenC\n",
      "2  I'm planning to add a new CONCAT operator to E...  pchunduri6\n",
      "3  When training models, tuning the parameters ar...     xzdandy\n",
      "4  Right now, the binder_context is not getting u...   gaurav274\n"
     ]
    }
   ],
   "source": [
    "# create tasks\n",
    "\n",
    "# y = cursor.query(\"\"\"\n",
    "#  INSERT INTO tasks (id, name, description) VALUES (3, 'test name 2', 'test description');\n",
    "#     \"\"\").df()\n",
    "# print(y)\n",
    "\n",
    "\n",
    "# drop all data in tasks\n",
    "\n",
    "# read json using pd\n",
    "json_data = pd.read_json('issues.json')\n",
    "print(json_data.head())\n",
    "\n",
    "# insert each row into table\n",
    "for index, row in json_data.iterrows():\n",
    "    # replace all ' with '' to escape\n",
    "    cursor.query(\"\"\"\n",
    "    INSERT INTO tasks (id, name, description) VALUES ({}, '{}', '{}');\n",
    "    \"\"\".format(index, row['contributor'], row['description'][0:1])).execute()"
   ]
  },
  {
   "cell_type": "code",
   "execution_count": 45,
   "metadata": {},
   "outputs": [
    {
     "name": "stdout",
     "output_type": "stream",
     "text": [
      "   tasks._row_id  tasks.id  tasks.name  \\\n",
      "0              1         0     xzdandy   \n",
      "1              2         1    jiashenC   \n",
      "2              3         2  pchunduri6   \n",
      "3              4         3     xzdandy   \n",
      "4              5         0     xzdandy   \n",
      "\n",
      "                                   tasks.description  \n",
      "0  For now. if opens pr adds or changes long inte...  \n",
      "1  Check if the query plan uses VectorIndexScan f...  \n",
      "2  Im planning to add a new CONCAT operator to Ev...  \n",
      "3  When training models. tuning the parameters ar...  \n",
      "4                                         For now, i  \n"
     ]
    },
    {
     "name": "stderr",
     "output_type": "stream",
     "text": [
      "c:\\Users\\Rambe\\anaconda3\\envs\\evadb\\Lib\\site-packages\\evadb\\models\\storage\\batch.py:271: FutureWarning: DataFrame.fillna with 'method' is deprecated and will raise in a future version. Use obj.ffill() or obj.bfill() instead.\n",
      "  new_frames = pd.concat(frames, axis=1, copy=False, ignore_index=False).fillna(\n"
     ]
    }
   ],
   "source": [
    "x = cursor.table('tasks').select(\"*\").df()\n",
    "print(x.head())"
   ]
  },
  {
   "cell_type": "code",
   "execution_count": 46,
   "metadata": {},
   "outputs": [
    {
     "name": "stdout",
     "output_type": "stream",
     "text": [
      "                                                                 0\n",
      "0  |__ ProjectPlan\\n    |__ SeqScanPlan\\n        |__ StoragePlan\\n\n"
     ]
    }
   ],
   "source": [
    "x = cursor.query(\"\"\"\n",
    "    EXPLAIN SELECT * FROM tasks;\n",
    "\"\"\").execute()\n",
    "\n",
    "print(x)"
   ]
  }
 ],
 "metadata": {
  "kernelspec": {
   "display_name": "evadb",
   "language": "python",
   "name": "python3"
  },
  "language_info": {
   "codemirror_mode": {
    "name": "ipython",
    "version": 3
   },
   "file_extension": ".py",
   "mimetype": "text/x-python",
   "name": "python",
   "nbconvert_exporter": "python",
   "pygments_lexer": "ipython3",
   "version": "3.11.5"
  },
  "orig_nbformat": 4
 },
 "nbformat": 4,
 "nbformat_minor": 2
}

{
 "cells": [
  {
   "cell_type": "code",
   "execution_count": 1,
   "metadata": {},
   "outputs": [],
   "source": [
    "import evadb\n",
    "\n",
    "TASK_TABLE_NAME = 'task'"
   ]
  },
  {
   "cell_type": "code",
   "execution_count": 3,
   "metadata": {},
   "outputs": [
    {
     "name": "stderr",
     "output_type": "stream",
     "text": [
      "10-17-2023 08:15:36 ERROR [plan_executor:plan_executor.py:execute_plan:0182] mydb already exists.\n",
      "Traceback (most recent call last):\n",
      "  File \"c:\\Users\\Rambe\\anaconda3\\envs\\evadb\\Lib\\site-packages\\evadb\\executor\\plan_executor.py\", line 178, in execute_plan\n",
      "    yield from output\n",
      "  File \"c:\\Users\\Rambe\\anaconda3\\envs\\evadb\\Lib\\site-packages\\evadb\\executor\\create_database_executor.py\", line 42, in exec\n",
      "    raise ExecutorError(f\"{self.node.database_name} already exists.\")\n",
      "evadb.executor.executor_utils.ExecutorError: mydb already exists.\n"
     ]
    },
    {
     "data": {
      "text/html": [
       "<div>\n",
       "<style scoped>\n",
       "    .dataframe tbody tr th:only-of-type {\n",
       "        vertical-align: middle;\n",
       "    }\n",
       "\n",
       "    .dataframe tbody tr th {\n",
       "        vertical-align: top;\n",
       "    }\n",
       "\n",
       "    .dataframe thead th {\n",
       "        text-align: right;\n",
       "    }\n",
       "</style>\n",
       "<table border=\"1\" class=\"dataframe\">\n",
       "  <thead>\n",
       "    <tr style=\"text-align: right;\">\n",
       "      <th></th>\n",
       "    </tr>\n",
       "  </thead>\n",
       "  <tbody>\n",
       "  </tbody>\n",
       "</table>\n",
       "</div>"
      ],
      "text/plain": [
       "Empty DataFrame\n",
       "Columns: []\n",
       "Index: []"
      ]
     },
     "execution_count": 3,
     "metadata": {},
     "output_type": "execute_result"
    }
   ],
   "source": [
    "cursor = evadb.connect().cursor()\n",
    "try:\n",
    "    cursor.query(\"\"\"\n",
    "        CREATE DATABASE mydb WITH ENGINE = 'sqlite', PARAMETERS = {\n",
    "        \"database\": \"eva.db\"\n",
    "    };\"\"\").df()\n",
    "except:\n",
    "    pass\n",
    "\n",
    "# drop all tables\n",
    "cursor.query(f\"\"\"\n",
    "    DROP TABLE IF EXISTS {TASK_TABLE_NAME};\n",
    "\"\"\").df()\n",
    "cursor.query(\"\"\"\n",
    "use mydb {\n",
    "    DROP TABLE IF EXISTS members\n",
    "};\n",
    "\"\"\").df()\n",
    "\n",
    "# Create tables\n",
    "cursor.query(f\"\"\"\n",
    "    CREATE TABLE {TASK_TABLE_NAME} (\n",
    "        id INTEGER UNIQUE,\n",
    "        name TEXT(30),\n",
    "        description\tTEXT(100)\n",
    "    );\n",
    "\"\"\").df()\n",
    "# cursor.query(\"\"\"\n",
    "# use mydb {\n",
    "#     CREATE TABLE \"members\" (\n",
    "#         \"id\"\tINTEGER NOT NULL UNIQUE,\n",
    "#         \"name\"\tTEXT\n",
    "#     )\n",
    "# };\n",
    "# \"\"\").df()\n"
   ]
  },
  {
   "cell_type": "code",
   "execution_count": 81,
   "metadata": {},
   "outputs": [
    {
     "data": {
      "text/html": [
       "<div>\n",
       "<style scoped>\n",
       "    .dataframe tbody tr th:only-of-type {\n",
       "        vertical-align: middle;\n",
       "    }\n",
       "\n",
       "    .dataframe tbody tr th {\n",
       "        vertical-align: top;\n",
       "    }\n",
       "\n",
       "    .dataframe thead th {\n",
       "        text-align: right;\n",
       "    }\n",
       "</style>\n",
       "<table border=\"1\" class=\"dataframe\">\n",
       "  <thead>\n",
       "    <tr style=\"text-align: right;\">\n",
       "      <th></th>\n",
       "      <th>name</th>\n",
       "    </tr>\n",
       "  </thead>\n",
       "  <tbody>\n",
       "    <tr>\n",
       "      <th>0</th>\n",
       "      <td>tasks</td>\n",
       "    </tr>\n",
       "  </tbody>\n",
       "</table>\n",
       "</div>"
      ],
      "text/plain": [
       "    name\n",
       "0  tasks"
      ]
     },
     "execution_count": 81,
     "metadata": {},
     "output_type": "execute_result"
    }
   ],
   "source": [
    "# list tables\n",
    "cursor.query(\"\"\"\n",
    "use mydb {\n",
    "   SELECT \n",
    "    name\n",
    "FROM \n",
    "    sqlite_schema\n",
    "WHERE \n",
    "    type ='table' AND \n",
    "    name NOT LIKE 'sqlite_%'\n",
    "};\n",
    "\"\"\").df()"
   ]
  },
  {
   "cell_type": "code",
   "execution_count": 82,
   "metadata": {},
   "outputs": [
    {
     "name": "stdout",
     "output_type": "stream",
     "text": [
      "   tasks.id tasks.name tasks.description\n",
      "0         1  test name  test description\n"
     ]
    },
    {
     "name": "stderr",
     "output_type": "stream",
     "text": [
      "c:\\Users\\Rambe\\anaconda3\\envs\\evadb\\Lib\\site-packages\\evadb\\models\\storage\\batch.py:271: FutureWarning: DataFrame.fillna with 'method' is deprecated and will raise in a future version. Use obj.ffill() or obj.bfill() instead.\n",
      "  new_frames = pd.concat(frames, axis=1, copy=False, ignore_index=False).fillna(\n"
     ]
    }
   ],
   "source": [
    "# create new task\n",
    "cursor.query(f\"\"\"\n",
    "        INSERT INTO {TASK_TABLE_NAME} (id, name, description) VALUES (1, 'test name', 'test description');\n",
    "    \"\"\").df()\n",
    "\n",
    "x = cursor.query(\"\"\"\n",
    "    SELECT * FROM mydb.tasks;  \n",
    "    \"\"\").df()\n",
    "print(x)"
   ]
  }
 ],
 "metadata": {
  "kernelspec": {
   "display_name": "evadb",
   "language": "python",
   "name": "python3"
  },
  "language_info": {
   "codemirror_mode": {
    "name": "ipython",
    "version": 3
   },
   "file_extension": ".py",
   "mimetype": "text/x-python",
   "name": "python",
   "nbconvert_exporter": "python",
   "pygments_lexer": "ipython3",
   "version": "3.11.5"
  },
  "orig_nbformat": 4
 },
 "nbformat": 4,
 "nbformat_minor": 2
}

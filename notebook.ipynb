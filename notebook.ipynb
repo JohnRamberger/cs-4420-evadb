{
 "cells": [
  {
   "cell_type": "code",
   "execution_count": 1,
   "metadata": {},
   "outputs": [],
   "source": [
    "import evadb\n",
    "import shutil\n",
    "\n",
    "shutil.rmtree('./evadb_data')\n",
    "\n",
    "try:\n",
    "    cursor = evadb.connect().cursor()\n",
    "    cursor.query(\"\"\"\n",
    "        CREATE DATABASE mydb WITH ENGINE = 'sqlite', PARAMETERS = {\n",
    "        \"database\": \":memory:\"\n",
    "    };\"\"\").df()\n",
    "except:\n",
    "    pass"
   ]
  },
  {
   "cell_type": "code",
   "execution_count": 35,
   "metadata": {},
   "outputs": [
    {
     "data": {
      "text/html": [
       "<div>\n",
       "<style scoped>\n",
       "    .dataframe tbody tr th:only-of-type {\n",
       "        vertical-align: middle;\n",
       "    }\n",
       "\n",
       "    .dataframe tbody tr th {\n",
       "        vertical-align: top;\n",
       "    }\n",
       "\n",
       "    .dataframe thead th {\n",
       "        text-align: right;\n",
       "    }\n",
       "</style>\n",
       "<table border=\"1\" class=\"dataframe\">\n",
       "  <thead>\n",
       "    <tr style=\"text-align: right;\">\n",
       "      <th></th>\n",
       "    </tr>\n",
       "  </thead>\n",
       "  <tbody>\n",
       "  </tbody>\n",
       "</table>\n",
       "</div>"
      ],
      "text/plain": [
       "Empty DataFrame\n",
       "Columns: []\n",
       "Index: []"
      ]
     },
     "execution_count": 35,
     "metadata": {},
     "output_type": "execute_result"
    }
   ],
   "source": [
    "\n",
    "\n",
    "# drop all tables\n",
    "cursor.query(\"\"\"\n",
    "    DROP TABLE IF EXISTS tasks;\n",
    "\"\"\").df()\n",
    "# cursor.query(\"\"\"\n",
    "#     DROP TABLE IF EXISTS members;\n",
    "# \"\"\").df()\n",
    "\n",
    "# Create tables\n",
    "cursor.query(\"\"\"\n",
    "    CREATE TABLE tasks (\n",
    "        id INTEGER UNIQUE,\n",
    "        name TEXT(30),\n",
    "        description\tTEXT(100)\n",
    "    );\n",
    "\"\"\").df()\n"
   ]
  },
  {
   "cell_type": "code",
   "execution_count": 41,
   "metadata": {},
   "outputs": [
    {
     "name": "stdout",
     "output_type": "stream",
     "text": [
      "Empty DataFrame\n",
      "Columns: []\n",
      "Index: []\n"
     ]
    }
   ],
   "source": [
    "# list tables\n",
    "x = cursor.query(\"\"\"\n",
    "use mydb {\n",
    "   SELECT \n",
    "    name\n",
    "FROM \n",
    "    sqlite_schema\n",
    "WHERE \n",
    "    type ='table' AND \n",
    "    name NOT LIKE 'sqlite_%'\n",
    "};\n",
    "\"\"\").df()\n",
    "\n",
    "print(x)"
   ]
  },
  {
   "cell_type": "code",
   "execution_count": 43,
   "metadata": {},
   "outputs": [
    {
     "name": "stdout",
     "output_type": "stream",
     "text": [
      "                          0\n",
      "0  Number of rows loaded: 3\n"
     ]
    }
   ],
   "source": [
    "# create new task\n",
    "y = cursor.query(\"\"\"\n",
    " INSERT INTO tasks (id, name, description) VALUES (3, 'test name 2', 'test description');\n",
    "    \"\"\").df()\n",
    "print(y)"
   ]
  },
  {
   "cell_type": "code",
   "execution_count": 44,
   "metadata": {},
   "outputs": [
    {
     "name": "stdout",
     "output_type": "stream",
     "text": [
      "   tasks._row_id  tasks.id   tasks.name tasks.description\n",
      "0              1         3  test name 2  test description\n"
     ]
    },
    {
     "name": "stderr",
     "output_type": "stream",
     "text": [
      "c:\\Users\\Rambe\\anaconda3\\envs\\evadb\\Lib\\site-packages\\evadb\\models\\storage\\batch.py:271: FutureWarning: DataFrame.fillna with 'method' is deprecated and will raise in a future version. Use obj.ffill() or obj.bfill() instead.\n",
      "  new_frames = pd.concat(frames, axis=1, copy=False, ignore_index=False).fillna(\n"
     ]
    }
   ],
   "source": [
    "x = cursor.query(\"\"\"\n",
    "    SELECT * FROM tasks;\n",
    "    \"\"\").df()\n",
    "print(x)"
   ]
  }
 ],
 "metadata": {
  "kernelspec": {
   "display_name": "evadb",
   "language": "python",
   "name": "python3"
  },
  "language_info": {
   "codemirror_mode": {
    "name": "ipython",
    "version": 3
   },
   "file_extension": ".py",
   "mimetype": "text/x-python",
   "name": "python",
   "nbconvert_exporter": "python",
   "pygments_lexer": "ipython3",
   "version": "3.11.5"
  },
  "orig_nbformat": 4
 },
 "nbformat": 4,
 "nbformat_minor": 2
}

{
 "cells": [
  {
   "cell_type": "code",
   "execution_count": 1,
   "metadata": {},
   "outputs": [
    {
     "name": "stdout",
     "output_type": "stream",
     "text": [
      "Requirement already satisfied: python-dotenv in c:\\users\\rambe\\anaconda3\\envs\\evadb\\lib\\site-packages (1.0.0)\n",
      "Requirement already satisfied: openai in c:\\users\\rambe\\anaconda3\\envs\\evadb\\lib\\site-packages (0.28.1)\n",
      "Requirement already satisfied: requests>=2.20 in c:\\users\\rambe\\anaconda3\\envs\\evadb\\lib\\site-packages (from openai) (2.31.0)\n",
      "Requirement already satisfied: tqdm in c:\\users\\rambe\\anaconda3\\envs\\evadb\\lib\\site-packages (from openai) (4.66.1)\n",
      "Requirement already satisfied: aiohttp in c:\\users\\rambe\\anaconda3\\envs\\evadb\\lib\\site-packages (from openai) (3.8.6)\n",
      "Requirement already satisfied: charset-normalizer<4,>=2 in c:\\users\\rambe\\anaconda3\\envs\\evadb\\lib\\site-packages (from requests>=2.20->openai) (3.3.0)\n",
      "Requirement already satisfied: idna<4,>=2.5 in c:\\users\\rambe\\anaconda3\\envs\\evadb\\lib\\site-packages (from requests>=2.20->openai) (3.4)\n",
      "Requirement already satisfied: urllib3<3,>=1.21.1 in c:\\users\\rambe\\anaconda3\\envs\\evadb\\lib\\site-packages (from requests>=2.20->openai) (2.0.6)\n",
      "Requirement already satisfied: certifi>=2017.4.17 in c:\\users\\rambe\\anaconda3\\envs\\evadb\\lib\\site-packages (from requests>=2.20->openai) (2023.7.22)\n",
      "Requirement already satisfied: attrs>=17.3.0 in c:\\users\\rambe\\anaconda3\\envs\\evadb\\lib\\site-packages (from aiohttp->openai) (23.1.0)\n",
      "Requirement already satisfied: multidict<7.0,>=4.5 in c:\\users\\rambe\\anaconda3\\envs\\evadb\\lib\\site-packages (from aiohttp->openai) (6.0.4)\n",
      "Requirement already satisfied: async-timeout<5.0,>=4.0.0a3 in c:\\users\\rambe\\anaconda3\\envs\\evadb\\lib\\site-packages (from aiohttp->openai) (4.0.3)\n",
      "Requirement already satisfied: yarl<2.0,>=1.0 in c:\\users\\rambe\\anaconda3\\envs\\evadb\\lib\\site-packages (from aiohttp->openai) (1.9.2)\n",
      "Requirement already satisfied: frozenlist>=1.1.1 in c:\\users\\rambe\\anaconda3\\envs\\evadb\\lib\\site-packages (from aiohttp->openai) (1.4.0)\n",
      "Requirement already satisfied: aiosignal>=1.1.2 in c:\\users\\rambe\\anaconda3\\envs\\evadb\\lib\\site-packages (from aiohttp->openai) (1.3.1)\n",
      "Requirement already satisfied: colorama in c:\\users\\rambe\\anaconda3\\envs\\evadb\\lib\\site-packages (from tqdm->openai) (0.4.6)\n"
     ]
    }
   ],
   "source": [
    "! pip install python-dotenv openai\n",
    "%load_ext dotenv\n",
    "%dotenv"
   ]
  },
  {
   "cell_type": "code",
   "execution_count": 2,
   "metadata": {},
   "outputs": [],
   "source": [
    "import evadb\n",
    "import shutil\n",
    "import pandas as pd\n",
    "import os\n",
    "from dotenv import load_dotenv"
   ]
  },
  {
   "cell_type": "code",
   "execution_count": 3,
   "metadata": {},
   "outputs": [],
   "source": [
    "shutil.rmtree('./evadb_data')\n",
    "\n",
    "try:\n",
    "    cursor = evadb.connect().cursor()\n",
    "    cursor.query(\"\"\"\n",
    "        CREATE DATABASE mydb WITH ENGINE = 'sqlite', PARAMETERS = {\n",
    "        \"database\": \":memory:\"\n",
    "    };\"\"\").execute()\n",
    "except:\n",
    "    pass"
   ]
  },
  {
   "cell_type": "code",
   "execution_count": 21,
   "metadata": {},
   "outputs": [
    {
     "data": {
      "text/plain": [
       "<evadb.models.storage.batch.Batch at 0x1bdf614aa90>"
      ]
     },
     "execution_count": 21,
     "metadata": {},
     "output_type": "execute_result"
    }
   ],
   "source": [
    "\n",
    "\n",
    "# drop all tables\n",
    "cursor.query(\"\"\"\n",
    "    DROP TABLE IF EXISTS tasks;\n",
    "\"\"\").execute()\n",
    "# cursor.query(\"\"\"\n",
    "#     DROP TABLE IF EXISTS members;\n",
    "# \"\"\").df()\n",
    "\n",
    "# Create tables\n",
    "cursor.query(\"\"\"\n",
    "    CREATE TABLE tasks (\n",
    "        id INTEGER,\n",
    "        name TEXT(30),\n",
    "        description\tTEXT(100)\n",
    "    );\n",
    "\"\"\").execute()\n"
   ]
  },
  {
   "cell_type": "code",
   "execution_count": 22,
   "metadata": {},
   "outputs": [
    {
     "name": "stdout",
     "output_type": "stream",
     "text": [
      "Empty DataFrame\n",
      "Columns: []\n",
      "Index: []\n"
     ]
    }
   ],
   "source": [
    "# list tables\n",
    "x = cursor.query(\"\"\"\n",
    "use mydb {\n",
    "   SELECT \n",
    "    name\n",
    "FROM \n",
    "    sqlite_schema\n",
    "WHERE \n",
    "    type ='table' AND \n",
    "    name NOT LIKE 'sqlite_%'\n",
    "};\n",
    "\"\"\").df()\n",
    "\n",
    "print(x)"
   ]
  },
  {
   "cell_type": "code",
   "execution_count": 23,
   "metadata": {},
   "outputs": [
    {
     "name": "stdout",
     "output_type": "stream",
     "text": [
      "                                         description contributor\n",
      "0  For now, if open's pr adds or changes long int...     xzdandy\n",
      "1  Check if the query plan uses VectorIndexScan f...    jiashenC\n",
      "2  I'm planning to add a new CONCAT operator to E...  pchunduri6\n",
      "3  When training models, tuning the parameters ar...     xzdandy\n",
      "4  Right now, the binder_context is not getting u...   gaurav274\n"
     ]
    }
   ],
   "source": [
    "# create tasks\n",
    "\n",
    "# y = cursor.query(\"\"\"\n",
    "#  INSERT INTO tasks (id, name, description) VALUES (3, 'test name 2', 'test description');\n",
    "#     \"\"\").df()\n",
    "# print(y)\n",
    "\n",
    "\n",
    "# drop all data in tasks\n",
    "\n",
    "# read json using pd\n",
    "json_data = pd.read_json('issues.json')\n",
    "print(json_data.head())\n",
    "\n",
    "# insert each row into table\n",
    "for index, row in json_data.iterrows():\n",
    "    # sanitize\n",
    "    desc = row['description'].replace(\"'\", \"\")\n",
    "    desc = desc.replace(';', '')\n",
    "    desc = desc.replace(',', '')\n",
    "\n",
    "    cursor.query(\"\"\"\n",
    "    INSERT INTO tasks (id, name, description) VALUES ({}, '{}', '{}');\n",
    "    \"\"\".format(index, row['contributor'], desc)).execute()"
   ]
  },
  {
   "cell_type": "code",
   "execution_count": 24,
   "metadata": {},
   "outputs": [
    {
     "name": "stdout",
     "output_type": "stream",
     "text": [
      "   tasks._row_id  tasks.id  tasks.name  \\\n",
      "0              1         0     xzdandy   \n",
      "1              2         1    jiashenC   \n",
      "2              3         2  pchunduri6   \n",
      "3              4         3     xzdandy   \n",
      "4              5         4   gaurav274   \n",
      "\n",
      "                                   tasks.description  \n",
      "0  For now if opens pr adds or changes long integ...  \n",
      "1  Check if the query plan uses VectorIndexScan f...  \n",
      "2  Im planning to add a new CONCAT operator to Ev...  \n",
      "3  When training models tuning the parameters are...  \n",
      "4  Right now the binder_context is not getting up...  \n"
     ]
    },
    {
     "name": "stderr",
     "output_type": "stream",
     "text": [
      "c:\\Users\\Rambe\\anaconda3\\envs\\evadb\\Lib\\site-packages\\evadb\\models\\storage\\batch.py:271: FutureWarning: DataFrame.fillna with 'method' is deprecated and will raise in a future version. Use obj.ffill() or obj.bfill() instead.\n",
      "  new_frames = pd.concat(frames, axis=1, copy=False, ignore_index=False).fillna(\n"
     ]
    }
   ],
   "source": [
    "x = cursor.table('tasks').select(\"*\").df()\n",
    "print(x.head())"
   ]
  },
  {
   "cell_type": "code",
   "execution_count": 11,
   "metadata": {},
   "outputs": [],
   "source": [
    "# print(os.environ['OPENAI_KEY'])\n",
    "\n",
    "cursor.query(\"\"\"\n",
    "CREATE FUNCTION IF NOT EXISTS OpenAIChatCompletion\n",
    "IMPL 'evadb/functions/openai_chat_completion_function.py'\n",
    "MODEL 'gpt-3.5-turbo'\n",
    "\"\"\").execute()"
   ]
  },
  {
   "cell_type": "code",
   "execution_count": 25,
   "metadata": {},
   "outputs": [
    {
     "name": "stderr",
     "output_type": "stream",
     "text": [
      "c:\\Users\\Rambe\\anaconda3\\envs\\evadb\\Lib\\site-packages\\evadb\\models\\storage\\batch.py:271: FutureWarning: DataFrame.fillna with 'method' is deprecated and will raise in a future version. Use obj.ffill() or obj.bfill() instead.\n",
      "  new_frames = pd.concat(frames, axis=1, copy=False, ignore_index=False).fillna(\n"
     ]
    }
   ],
   "source": [
    "\n",
    "\n",
    "res = cursor.table(\"tasks\").select(\n",
    "    \"ChatGPT('Can you give a similarity score for each of the descriptions to the following sample issue: Add support for sanitized string inputs on insertion', description)\"\n",
    ")\n",
    "responses = res.df()\n",
    "\n",
    "\n",
    "\n",
    "print(responses)"
   ]
  }
 ],
 "metadata": {
  "kernelspec": {
   "display_name": "evadb",
   "language": "python",
   "name": "python3"
  },
  "language_info": {
   "codemirror_mode": {
    "name": "ipython",
    "version": 3
   },
   "file_extension": ".py",
   "mimetype": "text/x-python",
   "name": "python",
   "nbconvert_exporter": "python",
   "pygments_lexer": "ipython3",
   "version": "3.11.5"
  },
  "orig_nbformat": 4
 },
 "nbformat": 4,
 "nbformat_minor": 2
}

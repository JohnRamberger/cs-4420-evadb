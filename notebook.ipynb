{
 "cells": [
  {
   "cell_type": "code",
   "execution_count": 56,
   "metadata": {},
   "outputs": [
    {
     "name": "stdout",
     "output_type": "stream",
     "text": [
      "The dotenv extension is already loaded. To reload it, use:\n",
      "  %reload_ext dotenv\n"
     ]
    }
   ],
   "source": [
    "! pip install --quiet python-dotenv openai tabulate\n",
    "%load_ext dotenv\n",
    "%dotenv"
   ]
  },
  {
   "cell_type": "code",
   "execution_count": 2,
   "metadata": {},
   "outputs": [],
   "source": [
    "import evadb\n",
    "import shutil\n",
    "import pandas as pd\n",
    "import os\n",
    "from dotenv import load_dotenv"
   ]
  },
  {
   "cell_type": "code",
   "execution_count": 3,
   "metadata": {},
   "outputs": [],
   "source": [
    "shutil.rmtree('./evadb_data')\n",
    "\n",
    "try:\n",
    "    cursor = evadb.connect().cursor()\n",
    "    cursor.query(\"\"\"\n",
    "        CREATE DATABASE mydb WITH ENGINE = 'sqlite', PARAMETERS = {\n",
    "        \"database\": \":memory:\"\n",
    "    };\"\"\").execute()\n",
    "except:\n",
    "    pass"
   ]
  },
  {
   "cell_type": "code",
   "execution_count": 29,
   "metadata": {},
   "outputs": [
    {
     "data": {
      "text/plain": [
       "<evadb.models.storage.batch.Batch at 0x1bdfa3511d0>"
      ]
     },
     "execution_count": 29,
     "metadata": {},
     "output_type": "execute_result"
    }
   ],
   "source": [
    "\n",
    "\n",
    "# drop all tables\n",
    "cursor.query(\"\"\"\n",
    "    DROP TABLE IF EXISTS tasks;\n",
    "\"\"\").execute()\n",
    "# cursor.query(\"\"\"\n",
    "#     DROP TABLE IF EXISTS members;\n",
    "# \"\"\").df()\n",
    "\n",
    "# Create tables\n",
    "cursor.query(\"\"\"\n",
    "    CREATE TABLE tasks (\n",
    "        id INTEGER,\n",
    "        name TEXT(30),\n",
    "        description\tTEXT(100)\n",
    "    );\n",
    "\"\"\").execute()\n"
   ]
  },
  {
   "cell_type": "code",
   "execution_count": 22,
   "metadata": {},
   "outputs": [
    {
     "name": "stdout",
     "output_type": "stream",
     "text": [
      "Empty DataFrame\n",
      "Columns: []\n",
      "Index: []\n"
     ]
    }
   ],
   "source": [
    "# list tables\n",
    "x = cursor.query(\"\"\"\n",
    "use mydb {\n",
    "   SELECT \n",
    "    name\n",
    "FROM \n",
    "    sqlite_schema\n",
    "WHERE \n",
    "    type ='table' AND \n",
    "    name NOT LIKE 'sqlite_%'\n",
    "};\n",
    "\"\"\").df()\n",
    "\n",
    "print(x)"
   ]
  },
  {
   "cell_type": "code",
   "execution_count": 50,
   "metadata": {},
   "outputs": [
    {
     "name": "stdout",
     "output_type": "stream",
     "text": [
      "                                         description contributor\n",
      "0  For now, if open's pr adds or changes long int...     xzdandy\n",
      "1  Check if the query plan uses VectorIndexScan f...    jiashenC\n",
      "2  I'm planning to add a new CONCAT operator to E...  pchunduri6\n",
      "3  When training models, tuning the parameters ar...     xzdandy\n",
      "4  Right now, the binder_context is not getting u...   gaurav274\n"
     ]
    }
   ],
   "source": [
    "# create tasks\n",
    "\n",
    "# y = cursor.query(\"\"\"\n",
    "#  INSERT INTO tasks (id, name, description) VALUES (3, 'test name 2', 'test description');\n",
    "#     \"\"\").df()\n",
    "# print(y)\n",
    "\n",
    "\n",
    "# drop all data in tasks\n",
    "\n",
    "# read json using pd\n",
    "json_data = pd.read_json('issues.json')\n",
    "print(json_data.head())\n",
    "\n",
    "# insert each row into table\n",
    "for index, row in json_data.iterrows():\n",
    "    # sanitize\n",
    "    desc = row['description'].replace(\"'\", \"\")\n",
    "    desc = desc.replace(';', '')\n",
    "    desc = desc.replace(',', '')\n",
    "\n",
    "    cursor.query(\"\"\"\n",
    "    INSERT INTO tasks (id, name, description) VALUES ({}, '{}', '{}');\n",
    "    \"\"\".format(index, row['contributor'], desc)).execute()"
   ]
  },
  {
   "cell_type": "code",
   "execution_count": null,
   "metadata": {},
   "outputs": [
    {
     "name": "stdout",
     "output_type": "stream",
     "text": [
      "   tasks._row_id  tasks.id  tasks.name  \\\n",
      "0              1         0     xzdandy   \n",
      "1              2         1    jiashenC   \n",
      "2              3         2  pchunduri6   \n",
      "\n",
      "                                   tasks.description  \n",
      "0  For now if opens pr adds or changes long integ...  \n",
      "1  Check if the query plan uses VectorIndexScan f...  \n",
      "2  Im planning to add a new CONCAT operator to Ev...  \n"
     ]
    },
    {
     "name": "stderr",
     "output_type": "stream",
     "text": [
      "c:\\Users\\Rambe\\anaconda3\\envs\\evadb\\Lib\\site-packages\\evadb\\models\\storage\\batch.py:271: FutureWarning: DataFrame.fillna with 'method' is deprecated and will raise in a future version. Use obj.ffill() or obj.bfill() instead.\n",
      "  new_frames = pd.concat(frames, axis=1, copy=False, ignore_index=False).fillna(\n"
     ]
    }
   ],
   "source": [
    "tasks = cursor.table('tasks').select(\"*\").df()\n",
    "print(tasks.head())"
   ]
  },
  {
   "cell_type": "code",
   "execution_count": 11,
   "metadata": {},
   "outputs": [],
   "source": [
    "# print(os.environ['OPENAI_KEY'])\n",
    "\n",
    "cursor.query(\"\"\"\n",
    "CREATE FUNCTION IF NOT EXISTS OpenAIChatCompletion\n",
    "IMPL 'evadb/functions/openai_chat_completion_function.py'\n",
    "MODEL 'gpt-3.5-turbo'\n",
    "\"\"\").execute()"
   ]
  },
  {
   "cell_type": "code",
   "execution_count": 63,
   "metadata": {},
   "outputs": [
    {
     "name": "stderr",
     "output_type": "stream",
     "text": [
      "c:\\Users\\Rambe\\anaconda3\\envs\\evadb\\Lib\\site-packages\\evadb\\models\\storage\\batch.py:271: FutureWarning: DataFrame.fillna with 'method' is deprecated and will raise in a future version. Use obj.ffill() or obj.bfill() instead.\n",
      "  new_frames = pd.concat(frames, axis=1, copy=False, ignore_index=False).fillna(\n"
     ]
    },
    {
     "name": "stdout",
     "output_type": "stream",
     "text": [
      "   chatgpt.response\n",
      "0               0.9\n",
      "1               0.2\n",
      "2               0.5\n",
      "3               0.9\n",
      "4               0.2\n",
      "5               0.5\n",
      "6               0.5\n",
      "7               0.2\n",
      "8               0.2\n",
      "9               0.2\n",
      "10              0.2\n",
      "11              0.2\n",
      "12              0.2\n",
      "13              0.5\n",
      "14              0.2\n",
      "15              0.2\n",
      "16              0.2\n",
      "17              0.2\n",
      "18              0.2\n",
      "19              0.2\n",
      "20              0.2\n",
      "21              0.2\n",
      "22              0.2\n",
      "23              0.2\n",
      "24              0.2\n"
     ]
    },
    {
     "name": "stderr",
     "output_type": "stream",
     "text": [
      "c:\\Users\\Rambe\\anaconda3\\envs\\evadb\\Lib\\site-packages\\evadb\\models\\storage\\batch.py:271: FutureWarning: DataFrame.fillna with 'method' is deprecated and will raise in a future version. Use obj.ffill() or obj.bfill() instead.\n",
      "  new_frames = pd.concat(frames, axis=1, copy=False, ignore_index=False).fillna(\n"
     ]
    }
   ],
   "source": [
    "sample_issue = \"When training models, tuning the parameters are common. Adding a CREATE OR REPLACE to simplify the query, so users do not need to run a DROP query every time.\"\n",
    "context = f\"\"\"\n",
    "Give a similarity score between this and the sample task below. Here are all of the tasks as context:\n",
    "All tasks:\n",
    "{tasks.to_markdown()}\n",
    "\"\"\"\n",
    "# context = f\"\"\"\n",
    "# Which of the following tasks is this most similar to?\n",
    "# All tasks:\n",
    "# {tasks.to_markdown()}\n",
    "# \"\"\"\n",
    "\n",
    "\n",
    "# query = f\"Give only a value between 0 and 1 representing the similarity between the given description and the following sample issue: {sample_issue}\"\n",
    "prompt = \"Give only a value between 0 and 1 for similarity and limit your response to 3 words.\"\n",
    "# prompt = \"Give only the tasks.id of the most similar task. Limit your response to 3 words.\"\n",
    "res = cursor.table(\"tasks\").select(\n",
    "    f\"ChatGPT('{context}', description, '{prompt}')\"\n",
    ")\n",
    "responses = res.df()\n",
    "\n",
    "\n",
    "\n",
    "print(responses)"
   ]
  },
  {
   "cell_type": "code",
   "execution_count": 64,
   "metadata": {},
   "outputs": [
    {
     "name": "stdout",
     "output_type": "stream",
     "text": [
      "0.9\n",
      "0.2\n",
      "0.5\n",
      "0.9\n",
      "0.2\n",
      "0.5\n",
      "0.5\n",
      "0.2\n",
      "0.2\n",
      "0.2\n",
      "0.2\n",
      "0.2\n",
      "0.2\n",
      "0.5\n",
      "0.2\n",
      "0.2\n",
      "0.2\n",
      "0.2\n",
      "0.2\n",
      "0.2\n",
      "0.2\n",
      "0.2\n",
      "0.2\n",
      "0.2\n",
      "0.2\n"
     ]
    }
   ],
   "source": [
    "# print all of the responses in responses['chatgpt.response']\n",
    "for index, row in responses.iterrows():\n",
    "    print(row['chatgpt.response'])"
   ]
  }
 ],
 "metadata": {
  "kernelspec": {
   "display_name": "evadb",
   "language": "python",
   "name": "python3"
  },
  "language_info": {
   "codemirror_mode": {
    "name": "ipython",
    "version": 3
   },
   "file_extension": ".py",
   "mimetype": "text/x-python",
   "name": "python",
   "nbconvert_exporter": "python",
   "pygments_lexer": "ipython3",
   "version": "3.11.5"
  },
  "orig_nbformat": 4
 },
 "nbformat": 4,
 "nbformat_minor": 2
}

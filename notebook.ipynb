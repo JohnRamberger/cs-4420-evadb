{
 "cells": [
  {
   "cell_type": "code",
   "execution_count": 71,
   "metadata": {},
   "outputs": [
    {
     "name": "stdout",
     "output_type": "stream",
     "text": [
      "The dotenv extension is already loaded. To reload it, use:\n",
      "  %reload_ext dotenv\n"
     ]
    }
   ],
   "source": [
    "! pip install --quiet python-dotenv openai tabulate\n",
    "%load_ext dotenv\n",
    "%dotenv"
   ]
  },
  {
   "cell_type": "code",
   "execution_count": 72,
   "metadata": {},
   "outputs": [],
   "source": [
    "import evadb\n",
    "import shutil\n",
    "import pandas as pd\n",
    "import os\n",
    "from dotenv import load_dotenv"
   ]
  },
  {
   "cell_type": "code",
   "execution_count": 74,
   "metadata": {},
   "outputs": [
    {
     "ename": "PermissionError",
     "evalue": "[WinError 32] The process cannot access the file because it is being used by another process: './evadb_data\\\\evadb.db'",
     "output_type": "error",
     "traceback": [
      "\u001b[1;31m---------------------------------------------------------------------------\u001b[0m",
      "\u001b[1;31mPermissionError\u001b[0m                           Traceback (most recent call last)",
      "\u001b[1;32mc:\\Users\\Rambe\\Documents\\github\\cs-4420-evadb\\notebook.ipynb Cell 3\u001b[0m line \u001b[0;36m1\n\u001b[1;32m----> <a href='vscode-notebook-cell:/c%3A/Users/Rambe/Documents/github/cs-4420-evadb/notebook.ipynb#W0sZmlsZQ%3D%3D?line=0'>1</a>\u001b[0m shutil\u001b[39m.\u001b[39;49mrmtree(\u001b[39m'\u001b[39;49m\u001b[39m./evadb_data\u001b[39;49m\u001b[39m'\u001b[39;49m)\n\u001b[0;32m      <a href='vscode-notebook-cell:/c%3A/Users/Rambe/Documents/github/cs-4420-evadb/notebook.ipynb#W0sZmlsZQ%3D%3D?line=2'>3</a>\u001b[0m \u001b[39mtry\u001b[39;00m:\n\u001b[0;32m      <a href='vscode-notebook-cell:/c%3A/Users/Rambe/Documents/github/cs-4420-evadb/notebook.ipynb#W0sZmlsZQ%3D%3D?line=3'>4</a>\u001b[0m     cursor \u001b[39m=\u001b[39m evadb\u001b[39m.\u001b[39mconnect()\u001b[39m.\u001b[39mcursor()\n",
      "File \u001b[1;32mc:\\Users\\Rambe\\anaconda3\\envs\\evadb\\Lib\\shutil.py:759\u001b[0m, in \u001b[0;36mrmtree\u001b[1;34m(path, ignore_errors, onerror, dir_fd)\u001b[0m\n\u001b[0;32m    757\u001b[0m     \u001b[39m# can't continue even if onerror hook returns\u001b[39;00m\n\u001b[0;32m    758\u001b[0m     \u001b[39mreturn\u001b[39;00m\n\u001b[1;32m--> 759\u001b[0m \u001b[39mreturn\u001b[39;00m _rmtree_unsafe(path, onerror)\n",
      "File \u001b[1;32mc:\\Users\\Rambe\\anaconda3\\envs\\evadb\\Lib\\shutil.py:622\u001b[0m, in \u001b[0;36m_rmtree_unsafe\u001b[1;34m(path, onerror)\u001b[0m\n\u001b[0;32m    620\u001b[0m             os\u001b[39m.\u001b[39munlink(fullname)\n\u001b[0;32m    621\u001b[0m         \u001b[39mexcept\u001b[39;00m \u001b[39mOSError\u001b[39;00m:\n\u001b[1;32m--> 622\u001b[0m             onerror(os\u001b[39m.\u001b[39;49munlink, fullname, sys\u001b[39m.\u001b[39;49mexc_info())\n\u001b[0;32m    623\u001b[0m \u001b[39mtry\u001b[39;00m:\n\u001b[0;32m    624\u001b[0m     os\u001b[39m.\u001b[39mrmdir(path)\n",
      "File \u001b[1;32mc:\\Users\\Rambe\\anaconda3\\envs\\evadb\\Lib\\shutil.py:620\u001b[0m, in \u001b[0;36m_rmtree_unsafe\u001b[1;34m(path, onerror)\u001b[0m\n\u001b[0;32m    618\u001b[0m \u001b[39melse\u001b[39;00m:\n\u001b[0;32m    619\u001b[0m     \u001b[39mtry\u001b[39;00m:\n\u001b[1;32m--> 620\u001b[0m         os\u001b[39m.\u001b[39munlink(fullname)\n\u001b[0;32m    621\u001b[0m     \u001b[39mexcept\u001b[39;00m \u001b[39mOSError\u001b[39;00m:\n\u001b[0;32m    622\u001b[0m         onerror(os\u001b[39m.\u001b[39munlink, fullname, sys\u001b[39m.\u001b[39mexc_info())\n",
      "\u001b[1;31mPermissionError\u001b[0m: [WinError 32] The process cannot access the file because it is being used by another process: './evadb_data\\\\evadb.db'"
     ]
    }
   ],
   "source": [
    "shutil.rmtree('./evadb_data')\n",
    "\n",
    "try:\n",
    "    cursor = evadb.connect().cursor()\n",
    "    cursor.query(\"\"\"\n",
    "        CREATE DATABASE mydb WITH ENGINE = 'sqlite', PARAMETERS = {\n",
    "        \"database\": \":memory:\"\n",
    "    };\"\"\").execute()\n",
    "except:\n",
    "    pass"
   ]
  },
  {
   "cell_type": "code",
   "execution_count": 90,
   "metadata": {},
   "outputs": [
    {
     "data": {
      "text/plain": [
       "<evadb.models.storage.batch.Batch at 0x1bdfaa343d0>"
      ]
     },
     "execution_count": 90,
     "metadata": {},
     "output_type": "execute_result"
    }
   ],
   "source": [
    "\n",
    "\n",
    "# drop all tables\n",
    "cursor.query(\"\"\"\n",
    "    DROP TABLE IF EXISTS tasks;\n",
    "\"\"\").execute()\n",
    "# cursor.query(\"\"\"\n",
    "#     DROP TABLE IF EXISTS members;\n",
    "# \"\"\").df()\n",
    "\n",
    "# Create tables\n",
    "cursor.query(\"\"\"\n",
    "    CREATE TABLE tasks (\n",
    "        id INTEGER,\n",
    "        name TEXT(30),\n",
    "        description\tTEXT(100)\n",
    "    );\n",
    "\"\"\").execute()\n"
   ]
  },
  {
   "cell_type": "code",
   "execution_count": 76,
   "metadata": {},
   "outputs": [
    {
     "name": "stdout",
     "output_type": "stream",
     "text": [
      "Empty DataFrame\n",
      "Columns: []\n",
      "Index: []\n"
     ]
    }
   ],
   "source": [
    "# list tables\n",
    "x = cursor.query(\"\"\"\n",
    "use mydb {\n",
    "   SELECT \n",
    "    name\n",
    "FROM \n",
    "    sqlite_schema\n",
    "WHERE \n",
    "    type ='table' AND \n",
    "    name NOT LIKE 'sqlite_%'\n",
    "};\n",
    "\"\"\").df()\n",
    "\n",
    "print(x)"
   ]
  },
  {
   "cell_type": "code",
   "execution_count": 92,
   "metadata": {},
   "outputs": [
    {
     "name": "stdout",
     "output_type": "stream",
     "text": [
      "                                         description contributor\n",
      "0  For now, if open's pr adds or changes long int...     xzdandy\n",
      "1  Check if the query plan uses VectorIndexScan f...    jiashenC\n",
      "2  I'm planning to add a new CONCAT operator to E...  pchunduri6\n",
      "3  When training models, tuning the parameters ar...     xzdandy\n",
      "4  Right now, the binder_context is not getting u...   gaurav274\n"
     ]
    }
   ],
   "source": [
    "# create tasks\n",
    "\n",
    "# y = cursor.query(\"\"\"\n",
    "#  INSERT INTO tasks (id, name, description) VALUES (3, 'test name 2', 'test description');\n",
    "#     \"\"\").df()\n",
    "# print(y)\n",
    "\n",
    "\n",
    "# drop all data in tasks\n",
    "\n",
    "# read json using pd\n",
    "json_data = pd.read_json('issues.json')\n",
    "print(json_data.head())\n",
    "\n",
    "# insert each row into table\n",
    "for index, row in json_data[1:].iterrows():\n",
    "    # sanitize\n",
    "    desc = row['description'].replace(\"'\", \"\")\n",
    "    desc = desc.replace(';', '')\n",
    "    desc = desc.replace(',', '')\n",
    "\n",
    "    cursor.query(\"\"\"\n",
    "    INSERT INTO tasks (id, name, description) VALUES ({}, '{}', '{}');\n",
    "    \"\"\".format(index, row['contributor'], desc)).execute()"
   ]
  },
  {
   "cell_type": "code",
   "execution_count": 93,
   "metadata": {},
   "outputs": [
    {
     "name": "stdout",
     "output_type": "stream",
     "text": [
      "   tasks._row_id  tasks.id  tasks.name  \\\n",
      "0              1         1    jiashenC   \n",
      "1              2         2  pchunduri6   \n",
      "2              3         3     xzdandy   \n",
      "3              4         4   gaurav274   \n",
      "4              5         5   gaurav274   \n",
      "\n",
      "                                   tasks.description  \n",
      "0  Check if the query plan uses VectorIndexScan f...  \n",
      "1  Im planning to add a new CONCAT operator to Ev...  \n",
      "2  When training models tuning the parameters are...  \n",
      "3  Right now the binder_context is not getting up...  \n",
      "4  Right now for nested SELECT queries the rename...  \n"
     ]
    },
    {
     "name": "stderr",
     "output_type": "stream",
     "text": [
      "c:\\Users\\Rambe\\anaconda3\\envs\\evadb\\Lib\\site-packages\\evadb\\models\\storage\\batch.py:271: FutureWarning: DataFrame.fillna with 'method' is deprecated and will raise in a future version. Use obj.ffill() or obj.bfill() instead.\n",
      "  new_frames = pd.concat(frames, axis=1, copy=False, ignore_index=False).fillna(\n"
     ]
    }
   ],
   "source": [
    "tasks = cursor.table('tasks').select(\"*\").df()\n",
    "print(tasks.head())"
   ]
  },
  {
   "cell_type": "code",
   "execution_count": 79,
   "metadata": {},
   "outputs": [],
   "source": [
    "# print(os.environ['OPENAI_KEY'])\n",
    "\n",
    "# cursor.query(\"\"\"\n",
    "# CREATE FUNCTION IF NOT EXISTS OpenAIChatCompletion\n",
    "# IMPL 'evadb/functions/openai_chat_completion_function.py'\n",
    "# MODEL 'gpt-3.5-turbo'\n",
    "# \"\"\").execute()"
   ]
  },
  {
   "cell_type": "code",
   "execution_count": 96,
   "metadata": {},
   "outputs": [
    {
     "name": "stderr",
     "output_type": "stream",
     "text": [
      "c:\\Users\\Rambe\\anaconda3\\envs\\evadb\\Lib\\site-packages\\evadb\\models\\storage\\batch.py:271: FutureWarning: DataFrame.fillna with 'method' is deprecated and will raise in a future version. Use obj.ffill() or obj.bfill() instead.\n",
      "  new_frames = pd.concat(frames, axis=1, copy=False, ignore_index=False).fillna(\n"
     ]
    },
    {
     "name": "stdout",
     "output_type": "stream",
     "text": [
      "   chatgpt.response\n",
      "0               0.1\n",
      "1               0.1\n",
      "2               0.2\n",
      "3               0.2\n",
      "4               0.1\n",
      "5               0.1\n",
      "6               0.1\n",
      "7               0.2\n",
      "8               0.1\n",
      "9               0.2\n",
      "10              0.1\n",
      "11              0.5\n",
      "12              0.3\n",
      "13              0.2\n",
      "14              0.2\n",
      "15              0.1\n",
      "16              0.1\n",
      "17              0.1\n",
      "18              0.1\n",
      "19              0.1\n",
      "20              0.2\n"
     ]
    },
    {
     "name": "stderr",
     "output_type": "stream",
     "text": [
      "c:\\Users\\Rambe\\anaconda3\\envs\\evadb\\Lib\\site-packages\\evadb\\models\\storage\\batch.py:271: FutureWarning: DataFrame.fillna with 'method' is deprecated and will raise in a future version. Use obj.ffill() or obj.bfill() instead.\n",
      "  new_frames = pd.concat(frames, axis=1, copy=False, ignore_index=False).fillna(\n"
     ]
    }
   ],
   "source": [
    "# sample_issue = \"When training models, tuning the parameters are common. Adding a CREATE OR REPLACE to simplify the query, so users do not need to run a DROP query every time.\"\n",
    "sample_issue = json_data['description'][0]\n",
    "# sanitize\n",
    "sample_issue = sample_issue.replace(\"'\", \"\")\n",
    "sample_issue = sample_issue.replace(';', '')\n",
    "sample_issue = sample_issue.replace(',', '')\n",
    "\n",
    "# query = f\"\"\"\n",
    "# Give a similarity score between this and the sample task below. Here are all of the tasks as context:\n",
    "# All tasks:\n",
    "# {tasks.to_markdown()}\n",
    "# \"\"\"\n",
    "\n",
    "context = tasks.to_markdown()\n",
    "\n",
    "query = f\"\"\"\n",
    "How similar is the following sample task to the given context task? {sample_issue}\n",
    " \n",
    "all tasks and contributors:\n",
    "\n",
    "{context}\n",
    "\n",
    "\"\"\"\n",
    "# query = f\"\"\"\n",
    "# Which of the following tasks is this most similar to?\n",
    "# All tasks:\n",
    "# {tasks.to_markdown()}\n",
    "# \"\"\"\n",
    "\n",
    "\n",
    "# query = f\"Give only a value between 0 and 1 representing the similarity between the given description and the following sample issue: {sample_issue}\"\n",
    "# prompt = \"Give only a value between 0 and 1 for similarity and limit your response to 3 words.\"\n",
    "# prompt = \"Give only the tasks.id of the most similar task. Limit your response to 3 words.\"\n",
    "prompt = \"return based on the following [not similar = 0, somewhat similar = 0.5, very similar = 1]. limit your response to 1 number between 0 and 1.\"\n",
    "res = cursor.table(\"tasks\").select(\n",
    "    f\"ChatGPT('{query}', description, '{prompt}')\"\n",
    ")\n",
    "responses = res.df()\n",
    "\n",
    "\n",
    "\n",
    "print(responses)"
   ]
  },
  {
   "cell_type": "code",
   "execution_count": 97,
   "metadata": {},
   "outputs": [
    {
     "name": "stdout",
     "output_type": "stream",
     "text": [
      "    tasks._row_id  tasks.id     tasks.name  \\\n",
      "11             12        12        xzdandy   \n",
      "12             13        13       hershd23   \n",
      "20             21        21       jiashenC   \n",
      "14             15        15  Chitti-Ankith   \n",
      "2               3         3        xzdandy   \n",
      "\n",
      "                                    tasks.description similarity  \n",
      "11  We want to enable coverage check for branches ...        0.5  \n",
      "12  Currently we only test the releases wheel by r...        0.3  \n",
      "20               Automate the minor release procedure        0.2  \n",
      "14  SQLite integration: Similar to Postgres add su...        0.2  \n",
      "2   When training models tuning the parameters are...        0.2  \n"
     ]
    }
   ],
   "source": [
    "# print all of the responses in responses['chatgpt.response']\n",
    "\n",
    "\n",
    "#  append this col to tasks\n",
    "tasks['similarity'] = responses['chatgpt.response']\n",
    "\n",
    "\n",
    "# sort by similarity\n",
    "tasks = tasks.sort_values(by=['similarity'], ascending=False)\n",
    "print(tasks.head())"
   ]
  },
  {
   "cell_type": "code",
   "execution_count": 98,
   "metadata": {},
   "outputs": [
    {
     "name": "stdout",
     "output_type": "stream",
     "text": [
      "\n",
      "This task should be assigned to: xzdandy\n",
      "\n"
     ]
    }
   ],
   "source": [
    "print(f\"\"\"\n",
    "This task should be assigned to: {tasks.iloc[0]['tasks.name']}\n",
    "\"\"\")"
   ]
  }
 ],
 "metadata": {
  "kernelspec": {
   "display_name": "evadb",
   "language": "python",
   "name": "python3"
  },
  "language_info": {
   "codemirror_mode": {
    "name": "ipython",
    "version": 3
   },
   "file_extension": ".py",
   "mimetype": "text/x-python",
   "name": "python",
   "nbconvert_exporter": "python",
   "pygments_lexer": "ipython3",
   "version": "3.11.5"
  },
  "orig_nbformat": 4
 },
 "nbformat": 4,
 "nbformat_minor": 2
}
